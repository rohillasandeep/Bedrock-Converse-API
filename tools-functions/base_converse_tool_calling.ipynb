{
 "cells": [
  {
   "cell_type": "markdown",
   "id": "23f4db31",
   "metadata": {},
   "source": [
    "# Agent from Scratch - using ConverseAPI ToolCalling Feature\n",
    "\n",
    "\n",
    "\n",
    "This notebook introduces how to build a simple reactive agent using AWS Bedrock Converse SDK. The agent will interact with a conversational model to process and respond to messages."
   ]
  },
  {
   "cell_type": "code",
   "execution_count": 1,
   "id": "6cb3ef4c-58b3-401b-b104-0d51e553d982",
   "metadata": {
    "height": 149
   },
   "outputs": [],
   "source": [
    "import boto3, json\n",
    "import re\n",
    "from enum import Enum\n",
    "from datetime import datetime\n",
    "\n",
    "# Create a session with AWS and initialize a Bedrock client for conversational AI models\n",
    "session = boto3.Session()\n",
    "bedrock = session.client(service_name='bedrock-runtime')\n"
   ]
  },
  {
   "cell_type": "code",
   "execution_count": 2,
   "id": "11e7d2e6",
   "metadata": {},
   "outputs": [],
   "source": [
    "\n",
    "class Models(Enum):\n",
    "    # Enum for storing model identifiers for different AI models.\n",
    "    # Each member represents a specific model hosted by various platforms like Anthropic and Meta.\n",
    "    \n",
    "    Sonnet = \"anthropic.claude-3-sonnet-20240229-v1:0\"  # Identifier for the 'Sonnet' model by Anthropic.\n",
    "    Haiku = \"anthropic.claude-3-haiku-20240307-v1:0\"   # Identifier for the 'Haiku' model by Anthropic.\n",
    "    Llama = \"meta.llama3-8b-instruct-v1:0\"            # Identifier for the 'Llama' model by Meta.\n",
    "    Cohere = \"cohere.command-r-plus-v1:0\"      # Identifier for the 'Cohere' model."
   ]
  },
  {
   "cell_type": "code",
   "execution_count": 3,
   "id": "9c669ef9",
   "metadata": {},
   "outputs": [],
   "source": [
    "class Agent:\n",
    "    def calculate(self, expression):\n",
    "        return str(eval(expression))\n",
    "\n",
    "    def average_dog_weight(self, name):\n",
    "        if name in \"Scottish Terrier\": \n",
    "            return(\"Scottish Terriers average 20 lbs\")\n",
    "        elif name in \"Border Collie\":\n",
    "            return(\"a Border Collies average weight is 37 lbs\")\n",
    "        elif name in \"Toy Poodle\":\n",
    "            return(\"a toy poodles average weight is 7 lbs\")\n",
    "        else:\n",
    "            print(\">>\"+name)\n",
    "            return(\"An average dog weights 50 lbs\")\n",
    "    "
   ]
  },
  {
   "cell_type": "code",
   "execution_count": 4,
   "id": "932883a4-c722-42bb-aec0-b4f41c5c81a4",
   "metadata": {
    "height": 30
   },
   "outputs": [],
   "source": [
    "#Define the configuration for our tool...\n",
    "toolConfig = {'tools': [],\n",
    "'toolChoice': {\n",
    "    'auto': {},\n",
    "    #'any': {},\n",
    "    #'tool': {\n",
    "    #    'name': 'get_weather'\n",
    "    #}\n",
    "    }\n",
    "}\n"
   ]
  },
  {
   "cell_type": "code",
   "execution_count": 5,
   "id": "f612bd1f",
   "metadata": {},
   "outputs": [],
   "source": [
    "# Adding specification for average_dog_weight function\n",
    "toolConfig['tools'].append({\n",
    "        'toolSpec': {\n",
    "            'name': 'average_dog_weight',\n",
    "            'description': 'Get the average weight of dog based on the breed',\n",
    "            'inputSchema': {\n",
    "                'json': {\n",
    "                    'type': 'object',\n",
    "                    'properties': {\n",
    "                        'name': {\n",
    "                            'type': 'string',\n",
    "                            'description': 'name of the breed of dog'\n",
    "                        }\n",
    "                    },\n",
    "                    'required': ['name']\n",
    "                }\n",
    "            }\n",
    "        }\n",
    "    })"
   ]
  },
  {
   "cell_type": "code",
   "execution_count": 6,
   "id": "94da3e12",
   "metadata": {},
   "outputs": [],
   "source": [
    "# Adding specification for calculate function\n",
    "toolConfig['tools'].append({\n",
    "        'toolSpec': {\n",
    "            'name': 'calculate',\n",
    "            'description': 'Calculates the mathematical query provided and generates the numerical result',\n",
    "            'inputSchema': {\n",
    "                'json': {\n",
    "                    'type': 'object',\n",
    "                    'properties': {\n",
    "                        'expression': {\n",
    "                            'type': 'string',\n",
    "                            'description': 'contains the mathematical query'\n",
    "                        }\n",
    "                    },\n",
    "                    'required': ['expression']\n",
    "                }\n",
    "            }\n",
    "        }\n",
    "    })"
   ]
  },
  {
   "cell_type": "code",
   "execution_count": 7,
   "id": "25fb9b9a",
   "metadata": {},
   "outputs": [],
   "source": [
    "#Function for caling the Bedrock Converse API...\n",
    "def converse_with_tools(model: Models, messages, system='', toolConfig=toolConfig):\n",
    "    m=model.value\n",
    "    response = bedrock.converse(\n",
    "        modelId=m,\n",
    "        messages=messages,\n",
    "        inferenceConfig={\n",
    "                \"maxTokens\": 2000,  # Maximum number of tokens that the model can generate.\n",
    "                \"temperature\": 0.0  # Temperature controls the randomness of the response; 0.0 makes it deterministic.\n",
    "            },\n",
    "        toolConfig=toolConfig\n",
    "    )\n",
    "    return response"
   ]
  },
  {
   "cell_type": "markdown",
   "id": "ed553bf2",
   "metadata": {},
   "source": [
    "### Add loop to automate actions"
   ]
  },
  {
   "cell_type": "code",
   "execution_count": 8,
   "id": "d93a64bf",
   "metadata": {},
   "outputs": [],
   "source": [
    "# Function for orchestrating the conversation flow with a model that might require additional tools.\n",
    "def converse_multi(model: Models, prompt, system=''):\n",
    "    # Initialize a list to keep track of the messages sent and received.\n",
    "    messages = []\n",
    "\n",
    "    # Add the initial user prompt to the messages list.\n",
    "    messages.append({\n",
    "        \"role\": \"user\",\n",
    "        \"content\": [{\"text\": prompt}]\n",
    "    })\n",
    "\n",
    "    # Log the initial prompt for debugging purposes.\n",
    "    print(f\"\\n- Initial prompt:\\n{json.dumps(messages, indent=2)}\")\n",
    "\n",
    "    # Invoke the model the first time using the initial set of messages.\n",
    "    output = converse_with_tools(model, messages, system)\n",
    "\n",
    "    # Add the intermediate output to the prompt for further interaction.\n",
    "    output_message = output['output']['message']\n",
    "    messages.append(output_message)\n",
    "    stop_reason = output['stopReason']\n",
    "\n",
    "    # Continue the conversation as long as the model uses external tools.\n",
    "    while stop_reason == 'tool_use':\n",
    "        tool_requests = output['output']['message']['content']\n",
    "        #print(json.dumps( output['output'], indent=2))\n",
    "        tresult=[]\n",
    "        for tool_request in tool_requests:\n",
    "            if 'toolUse' in tool_request:\n",
    "                tool = tool_request['toolUse']\n",
    "                print(\"Requesting tool: \" + tool['name'])\n",
    "                print(\"Requesting tool ID: \" + tool['toolUseId'])\n",
    "                \n",
    "                # Handle specific tools based on the name.\n",
    "                if tool['name'] == 'average_dog_weight':\n",
    "                    agent = Agent()\n",
    "                    breedname = tool['input']['name']\n",
    "                    dog_weight = agent.average_dog_weight(breedname)\n",
    "                    tool_result = {\n",
    "                        \"toolUseId\": tool['toolUseId'],\n",
    "                        \"content\": [{\"text\": dog_weight}]\n",
    "                    }\n",
    "\n",
    "                elif tool['name'] == 'calculate':\n",
    "                    agent = Agent()\n",
    "                    expression = tool['input']['expression']\n",
    "                    calc = agent.calculate(expression)\n",
    "                    tool_result = {\n",
    "                        \"toolUseId\": tool['toolUseId'],\n",
    "                        \"content\": [{\"text\": calc}]\n",
    "                    }\n",
    "\n",
    "                else:\n",
    "                    tool_result = {\n",
    "                        \"toolUseId\": tool['toolUseId'],\n",
    "                        \"content\": [{\"text\": \"Tool not found\"}],\n",
    "                        \"status\": 'error'\n",
    "                    }\n",
    "                tresult.append({\"toolResult\": tool_result})\n",
    "                \n",
    "        # Construct a new message with the tool result and append it to messages.\n",
    "        tool_result_message = {\n",
    "                    \"role\": \"user\",\n",
    "                    \"content\": tresult\n",
    "                }\n",
    "        messages.append(tool_result_message)\n",
    "        # Send the updated messages list back to the model.\n",
    "        output = converse_with_tools(model, messages, system)\n",
    "        output_message = output['output']['message']\n",
    "        messages.append(output_message)\n",
    "        stop_reason = output['stopReason']\n",
    "        print(\"-------------\")\n",
    "                \n",
    "    # Return the final message content.\n",
    "    return output_message[\"content\"][0]['text']\n"
   ]
  },
  {
   "cell_type": "code",
   "execution_count": 9,
   "id": "e85a02b4-96cc-4b01-8792-397a774eb499",
   "metadata": {
    "height": 64
   },
   "outputs": [],
   "source": [
    "question = \"\"\"I have 2 dogs, a Border Collie and a Scottish Terrier. What is their combined weight?\"\"\""
   ]
  },
  {
   "cell_type": "code",
   "execution_count": 10,
   "id": "feff00eb",
   "metadata": {},
   "outputs": [
    {
     "name": "stdout",
     "output_type": "stream",
     "text": [
      "\n",
      "- Initial prompt:\n",
      "[\n",
      "  {\n",
      "    \"role\": \"user\",\n",
      "    \"content\": [\n",
      "      {\n",
      "        \"text\": \"I have 2 dogs, a Border Collie and a Scottish Terrier. What is their combined weight?\"\n",
      "      }\n",
      "    ]\n",
      "  }\n",
      "]\n",
      "Requesting tool: average_dog_weight\n",
      "Requesting tool ID: tooluse_yjuv3zzhSLOD_lwBFhrtvA\n",
      "-------------\n",
      "Requesting tool: average_dog_weight\n",
      "Requesting tool ID: tooluse_kUEslb5wS-uV89EICRat5Q\n",
      "-------------\n",
      "Requesting tool: calculate\n",
      "Requesting tool ID: tooluse_bd-zwP65Q8W8Higcil9qMg\n",
      "-------------\n",
      "Answer:  The combined weight of your Border Collie and Scottish Terrier is 57 lbs.\n"
     ]
    }
   ],
   "source": [
    "print(\"Answer: \", converse_multi(Models.Haiku,question))"
   ]
  },
  {
   "cell_type": "code",
   "execution_count": 11,
   "id": "c7ce3124",
   "metadata": {},
   "outputs": [
    {
     "name": "stdout",
     "output_type": "stream",
     "text": [
      "\n",
      "- Initial prompt:\n",
      "[\n",
      "  {\n",
      "    \"role\": \"user\",\n",
      "    \"content\": [\n",
      "      {\n",
      "        \"text\": \"I have 2 dogs, a Border Collie and a Scottish Terrier. What is their combined weight?\"\n",
      "      }\n",
      "    ]\n",
      "  }\n",
      "]\n",
      "Requesting tool: average_dog_weight\n",
      "Requesting tool ID: tooluse_i_DIAOUrS5Sps7LJbyj8hA\n",
      "Requesting tool: average_dog_weight\n",
      "Requesting tool ID: tooluse_AITwWO8cSnuItp33PMATkw\n",
      "-------------\n",
      "Answer:  The average weight of a Border Collie is 37 lbs and the average weight of a Scottish Terrier is 20 lbs, so the combined weight of the two dogs is 57 lbs.\n"
     ]
    }
   ],
   "source": [
    "print(\"Answer: \", converse_multi(Models.Cohere,question))"
   ]
  }
 ],
 "metadata": {
  "kernelspec": {
   "display_name": "Python 3 (ipykernel)",
   "language": "python",
   "name": "python3"
  },
  "language_info": {
   "codemirror_mode": {
    "name": "ipython",
    "version": 3
   },
   "file_extension": ".py",
   "mimetype": "text/x-python",
   "name": "python",
   "nbconvert_exporter": "python",
   "pygments_lexer": "ipython3",
   "version": "3.12.2"
  }
 },
 "nbformat": 4,
 "nbformat_minor": 5
}
